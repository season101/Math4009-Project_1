{
 "cells": [
  {
   "cell_type": "markdown",
   "source": [
    "<H1>Python Random Number Generators</H1>\n",
    "<p>We will use our object Generator to create each individuals case of random numbers set.</p>"
   ],
   "metadata": {}
  },
  {
   "cell_type": "code",
   "execution_count": 12,
   "source": [
    "from Generator import *;"
   ],
   "outputs": [],
   "metadata": {}
  },
  {
   "cell_type": "markdown",
   "source": [
    "<p>We created a generators list to store each 100 cases of 10,000 random numbers between -1000 and 1000.<p>"
   ],
   "metadata": {}
  },
  {
   "cell_type": "code",
   "execution_count": 13,
   "source": [
    "generators = []"
   ],
   "outputs": [],
   "metadata": {}
  },
  {
   "cell_type": "code",
   "execution_count": 14,
   "source": [
    "for i in range(0,100):\n",
    "    generators.append(Generator(-1000,1000))"
   ],
   "outputs": [],
   "metadata": {}
  },
  {
   "cell_type": "markdown",
   "source": [
    "<hr size=\"10px\">"
   ],
   "metadata": {}
  },
  {
   "cell_type": "markdown",
   "source": [
    "<H1>Case Study</H1>"
   ],
   "metadata": {}
  },
  {
   "cell_type": "markdown",
   "source": [
    "<p>Question: Does the distribution of random numbers really looks like random?<p>\n",
    "<p> --> We have 100 cases of randomly generated 1000 sets of numbers.</p>\n",
    "<br>"
   ],
   "metadata": {}
  },
  {
   "cell_type": "markdown",
   "source": [
    "<p> First we add all 100 cases in one single map/dictionary</p>"
   ],
   "metadata": {}
  },
  {
   "cell_type": "code",
   "execution_count": 15,
   "source": [
    "data = {}\n",
    "arr = []\n",
    "for i in range (0,100):\n",
    "    for x in generators:\n",
    "        nums = x.ranNums.keys()\n",
    "        for n in nums:\n",
    "            if n in data:\n",
    "                data[n] = data.get(n) + 1\n",
    "                arr.append(n)\n",
    "            else:\n",
    "                data[n] = 1\n",
    "                arr.append(n)\n",
    "print(data.keys())\n"
   ],
   "outputs": [
    {
     "output_type": "stream",
     "name": "stdout",
     "text": [
      "dict_keys([-622, -615, 54, 774, 205, 370, -113, 487, -418, -505, 265, 238, -402, 574, 763, -548, -766, 277, 735, 833, 26, -578, -639, 992, -603, 510, 867, -415, -67, -235, 756, 702, -496, -752, 266, 600, -262, 184, -12, -595, 743, 117, -328, -106, 695, -248, -107, 61, 58, 873, -477, 140, 359, -824, 697, 159, -385, 439, 281, 366, -514, 369, -804, 835, -330, 615, -231, 715, 134, 797, -805, 55, -820, -399, -249, -788, 928, -862, -706, -566, 200, -281, 63, -570, 408, 438, 920, -408, -78, -798, -316, -24, -94, 978, -286, -201, 362, 496, -681, -660, 878, -975, 53, -479, -643, 128, -632, 211, -265, -964, -942, -497, 459, 425, 282, -117, 469, 384, 998, 586, -895, 612, 534, -843, 431, 92, -42, -742, -601, 8, -945, 755, -116, 953, -142, 522, 157, 858, -450, 533, -51, -417, -985, 495, -821, -44, -676, 937, 501, 405, 554, 498, 678, -429, 267, 131, 67, -234, 986, -707, 60, -93, 567, 254, 866, -853, -897, -827, -209, -324, -291, -153, -186, -951, -943, 850, 182, -292, 83, -406, -81, -931, -212, 694, -465, 273, -906, 176, -137, -8, -652, 943, -634, 68, -411, 952, 356, 169, 803, 768, -482, -976, 879, 72, -96, 239, 577, -616, 941, 580, 194, 688, -210, 750, -954, -430, 736, 10, 638, 505, 123, -731, 996, 180, 663, 745, -637, -1000, -301, -876, -221, -463, -893, -246, -200, 361, 264, 518, 731, 984, -986, 700, 934, -817, -485, 532, -271, 220, 976, 725, 635, -130, 752, 485, -195, -782, 662, -870, -488, 27, -503, -407, 903, -495, -110, -335, -470, 680, 830, -774, -484, 963, -14, -541, 513, -877, -761, 525, -728, 450, 37, -845, 181, 527, 103, 508, 45, 948, -58, -756, 390, -457, -437, -852, -856, 48, 29, -253, 78, -11, -779, 145, -427, -861, 350, 829, -654, -261, 528, -332, 778, -375, 7, -155, 524, 739, 582, -519, 955, -250, 334, -471, -119, -29, 726, 112, -498, 514, -179, -52, 271, -425, 77, 242, 480, 935, -43, -842, -88, -329, 940, -719, -99, 668, -744, 465, -350, -690, -611, 325, 82, 270, 870, 326, -523, -859, -192, 856, 504, -875, -606, 541, -373, -937, -890, 233, -446, -777, -370, 780, 677, -435, 915, 825, 862, -662, 395, -133, 744, -738, -211, 368, 639, 776, -20, -948, -242, 56, -604, 122, -55, -955, -711, -837, -46, -621, -451, -193, -267, 343, -405, -441, 610, -631, 572, -547, -591, -642, -965, -227, 394, -929, 482, -815, -996, -693, -84, 681, 451, 476, -26, 859, 929, -194, 297, 861, 562, -703, -483, -469, -108, 500, -2, -851, 517, 138, 526, 471, -226, 923, -337, -77, -958, 854, -75, 848, -251, -850, -720, -629, 775, -480, -579, 793, 249, -257, 290, -554, 537, 401, -362, 156, -739, 462, 687, -447, -459, -13, 98, -834, -844, -298, 96, -95, 901, 449, 357, -22, -63, 654, 656, 530, 821, -197, 258, 575, -386, -511, -932, 919, 704, -783, 340, 91, 84, 737, -628, -284, 309, -698, 727, -139, 296, 974, -531, 3, -586, -5, 310, -266, -882, -536, -823, 543, 186, -830, 28, -452, 611, 631, 274, -984, 913, 269, 893, 637, 207, -679, -624, -734, 417, -655, 109, -367, 964, -751, -967, 652, 720, -260, 251, 521, 386, 989, 880, -661, 942, 16, -982, -181, -539, 217, -396, 221, 994, -584, 946, -348, -543, 402, 229, 516, -795, 305, -277, 962, 494, 126, 303, -454, -461, -501, 127, 710, 434, 225, -97, -787, 289, 894, -145, -401, 124, -598, -428, -577, 578, 372, -436, 443, -64, -149, -363, -791, -813, 95, 761, 798, 227, -364, 171, 263, 708, -883, -816, -314, 601, 545, -412, -359, 415, 906, 299, 569, -102, -855, -455, 734, 151, 509, 173, -847, -154, -280, -184, -306, -305, 244, -732, -374, -462, 21, -540, 288, 158, -199, 660, -114, 46, -723, -727, 633, -581, -998, 428, 472, 781, 371, 22, -361, 219, -797, -123, -208, -191, -658, -885, -263, -518, 321, -978, -431, -440, 30, 659, -740, 917, -176, -492, -275, 876, 609, -356, -456, -100, -812, 293, -649, 195, 719, -233, 847, 823, -500, 399, 43, 658, -750, 202, 466, 800, 230, -879, 1, 666, 557, 699, -288, -913, -917, 762, -158, -366, 189, -134, -990, 65, 160, -178, -997, -857, 75, -410, -594, -409, -833, 165, -92, 792, 602, -453, -304, 805, 170, -297, 453, 203, 540, -991, -974, -708, -772, 754, -378, 842, 594, -135, -239, -357, -933, 79, -365, 70, -669, -776, 461, 604, 278, 339, -934, -35, -923, -420, 141, -542, -551, 691, -156, -125, 338, -911, 536, -675, -103, 511, 44, 452, -718, 836, -626, -308, 711, -323, -874, -504, 115, 817, -32, -166, -494, -138, 284, -535, -516, -515, -921, 642, 42, 342, -481, -423, -770, 683, 584, -61, -36, -354, 317, -651, 409, 358, 418, -27, -1, 406, 926, -602, -565, -303, 337, 484, 250, -909, -3, 628, -729, 550, 950, -924, 556, -502, -600, 396, 454, -57, 595, -392, -589, 215, 625, 960, 740, 349, -576, -627, -105, -908, -688, -686, -956, -16, -80, 925, -183, 18, -307, 294, 653, 606, 94, 185, -599, -891, 834, -426, 728, -90, -144, -737, 684, 767, 89, 598, -131, 995, -771, -533, -867, 999, 939, -442, 618, -835, 965, 391, -678, -657, -741, -472, 135, 824, 630, -638, 902, -647, 881, -610, 888, 388, -422, 40, 192, 377, -230, -140, -111, 786, -68, 448, 336, 279, -168, 709, 15, -341, 796, 130, -240, 649, -358, 826, 548, -65, 119, 222, 354, -244, -617, -445, -763, -91, -886, 813, -900, -587, 262, 308, 473, 397, 231, -458, 430, -614, -342, 136, -438, -963, 298, 590, 627, 853, -754, 155, 166, -379, -376, 985, -832, 849, 982, 641, 581, 883, 380, -590, -493, 843, 801, 655, 457, 583, -188, -609, 475, 133, 959, -596, -995, 997, 172, -47, -625, 667, -165, -270, 777, 566, -588, 223, -969, -597, -721, -10, 382, 114, 648, -926, 958, 38, 328, 464, 674, 320, 769, 751, -979, -583, -653, -296, -321, -327, 912, 129, 784, 20, -198, -351, -725, -148, -671, 599, 245, -171, 64, -871, -574, 295, 33, -388, 665, -338, -49, 607, -486, 966, -793, 470, -557, 208, 261, -971, -568, 499, -525, -915, -560, 488, -15, -710, 413, -343, 392, 561, 831, 183, 393, 891, 632, -841, 772, -206, 936, 204, -957, -796, 25, 301, 747, -464, -758, 841, -278, 57, 918, -644, -608, -648, -899, 753, 808, -630, -650, 679, -128, 746, -700, 167, -228, -18, -269, -34, -961, 865, 259, 742, -801, 646, -66, -722, -819, -575, 546, 287, 106, 874, 228, -360, 788, -952, -6, -120, -868, 210, 591, -607, 721, 400, 442, -152, 812, -736, -433, 363, -283, 213, 804, 643, -7, -369, -19, 571, 420, -400, 437, 806, 938, 467, -803, -685, 426, -562, -136, -173, -530, -922, -45, -746, -254, -935, -807, 970, 846, 616, 713, -784, 41, 257, -755, 414, 765, 822, -282, 885, 116, -663, -677, -949, 32, 794, 197, 59, -699, -786, -559, 304, 412, 36, 39, 990, -163, -9, -860, -789, -395, -528, -580, 520, 895, 179, 671, -873, -336, -999, -53, -355, 69, 191, 613, 619, 818, -220, -808, 312, -765, 819, -264, 81, 218, 149, 947, -846, -189, -71, 445, -794, 52, -585, -216, -182, -545, -656, 365, -572, 164, 910, 329, 871, 190, 592, 977, -980, 148, -747, -759, 698, -285, -717, -920, -989, -460, -72, 322, 118, 110, -151, -468, -561, -224, 782, -391, -241, 174, -76, -526, 407, -889, -309, 199, 13, -508, -475, 909, 795, 367, -79, 900, 323, 143, -377, -620, -743, -109, -403, -953, -940, 85, -887, -268, -439, -506, -185, -983, -490, -950, -180, -826, -334, -968, -582, -930, 933, -320, -555, -255, -466, -245, -432, -299, 905, 319, 302, -276, -745, 97, -773, 664, 972, -919, -556, 458, 770, 741, -223, 316, -970, 120, 603, -981, -40, -764, -204, -966, 447, -54, 332, -918, 820, 791, -507, -146, -712, 549, 802, -684, 9, -619, -532, 355, -993, -23, 647, 212, -205, 76, -368, -665, 150, -352, 333, 236, -398, 542, -522, 519, 799, 790, -941, 779, -37, -196, 313, 897, -162, 486, -59, -898, 651, 80, -50, -828, 351, 429, 701, 314, -762, 47, -680, -187, 73, 904, -780, 162, 538, -127, -70, -668, 957, -724, -612, -769, -444, -666, -672, -147, 889, -687, 979, 146, 723, -939, -202, -499, -513, 62, -517, 931, 419, 256, 507, 529, 23, 187, -126, 785, -790, 899, 845, 444, 90, -825, -749, -318, 147, -691, -393, -573, -157, -682, 285, -534, -605, -89, 839, 373, -487, 983, 260, 492, -372, -339, -902, 506, 676, 682, 860, -232, -558, 188, -521, 374, -674, -274, 531, 757, 4, 596, 816, -424, 441, -73, 553, 650, -169, 102, -213, -529, 224, -259, 108, -696, -236, -237, 300, 410, -802, -28, -811, 235, -48, -775, 152, -389, -86, -295, 463, -112, 872, -413, 275, -778, -129, -383, 771, -69, -550, -150, -748, 968, -792, 559, -60, -512, -713, -697, -903, 347, 851, -673, 535, -569, 455, 71, 840, 810, -159, -623, -806, 980, -646, 93, 88, 376, -836, 153, 539, 809, 163, -381, 855, 196, -730, -593, -571, 712, 379, 657, 758, -293, -670, 125, -840, -822, 764, 608, -544, 661, 327, 468, 773, -164, 154, 515, 693, -618, 198, -31, -217, -715, -799, -345, -252, 436, 597, 969, -247, 565, -82, -311, 837, 911, 440, -449, 945, -101, -753, 629, 991, 246, -553, 987, -302, 491, 364, -546, 272, 573, 247, -689, -552, -85, -869, 783, 686, 209, 381, -421, 50, 724, -977, 232, -279, 307, -160, 864, -419, -17, -537, 24, -118, 331, 311, 555, 105, -613, -760, 168, 882, 593, 433, -313, 14, -726, -849, -333, 5, 175, -315, 544, 460, 875, 921, 121, 729, -347, 705, -98, -56, -310, 346, 178, 672, 315, -814, 579, -243, -704, -294, 291, 144, 949, -988, 424, 832, 502, -30, 932, 748, 276, 483, 348, -912, -716, 335, -524, -905, 624, 620, -904, -641, -326, 481, -448, 669, 99, 807, -300, 914, -829, 306, 617, -478, -289, 489, -946, -549, -124, 576, -346, 100, -203, -380, 6, 685, 416, 887, 869, 427, 877, -809, -273, 886, 714, 248, 139, -476, -414, 645, -325, -800, -122, -683, -564, 0, -290, 137, 732, -238, 563, 551, -174, 892, -287, 161, -733, -416, -161, -785, -863, 961, -21, -831, -167, 706, -207, -880, 868, 385, 696, 411, -838, -896, -592, 237, -434, 852, -907, -331, 838, 387, -892, -87, -858, -768, -757, 814, 981, 558, 787, -705, -916, 11, -927, 760, 675, 884, 718, -390, -4, 707, -509, 241, 922, -170, -190, 17, -317, 478, 193, -872, 605, 49, 142, 844, -115, -319, -474, -256, 353, -694, 318, -322, 344, 66, -218, -563, -222, -695, 503, 111, 692, -992, 789, -510, 292, -312, -667, -175, 973, -839, -972, -397, 403, -340, 690, -520, 944, -888, 890, 916, 568, 560, 341, 421, -33, -567, -938, 104, 490, 614, 924, -818, 587, 360, 201, 811, 479, 689, 930, 493, 12, -229, 432, -865, -914, 283, 827, 477, 621, -172, -781, -382, 404, -936, 622, 34, -353, 243, 253, 446, -692, -633, -215, 898, 252, -527, -384, 988, 2, -404, -928, 512, -910, 435, -489, -944, 896, 31, -467, 733, 626, -177, -538, -25, -38, 378, -659, 352, 927, 585, 907, -640, -864, 226, -709, 398, -473, -701, -987, 523, 375, -894, -848, -714, 345, -371, 588, 423, 759, -947, 640, 330, 749, 214, 422, -83, 971, -866, 177, 389, -74, 113, -878, -854, -664, -121, 644, 383, 206, 280, -636, 216, 703, 497, 552, 132, 19, 673, 564, 722, 474, -884, 670, 954, -41, 51, 570, -925, 101, 951, -104, -962, 107, -394, -702, -635, -39, -272, 456, -901, -994, 324, 863, -219, 716, 828, 766, -349, -62, 234, 634, 268, 975, 255, 286, 623, 717, -443, 87, -645, 240, -344, -143, -810, -960, -959, -973, -214, -881, 74, 967, 589, 636, -141, 857, -735, 993, -132, 730, 908, 815, -225, 86, -767, -258, 35, 547, -491, 956, -387, 738])\n"
     ]
    }
   ],
   "metadata": {}
  },
  {
   "cell_type": "code",
   "execution_count": 16,
   "source": [
    "from matplotlib import pyplot as plt\n",
    "import numpy as np\n",
    "fig,ax = plt.subplots(1,1)\n",
    "a = list(data.keys())\n",
    "ax.hist(a, bins = [-1000,-500,0,500,1000])\n",
    "ax.set_title(\"histogram of result\")\n",
    "ax.set_xticks([-1000,-500,0,500,1000])\n",
    "ax.set_xlabel('RandomNumbers')\n",
    "ax.set_ylabel('Count')\n",
    "plt.show()"
   ],
   "outputs": [
    {
     "output_type": "display_data",
     "data": {
      "image/png": "[encoded data removed]",
      "text/plain": [
       "<Figure size 432x288 with 1 Axes>"
      ]
     },
     "metadata": {
      "needs_background": "light"
     }
    }
   ],
   "metadata": {}
  }
 ],
 "metadata": {
  "interpreter": {
   "hash": "31f2aee4e71d21fbe5cf8b01ff0e069b9275f58929596ceb00d14d90e3e16cd6"
  },
  "kernelspec": {
   "name": "python3",
   "display_name": "Python 3.8.10 64-bit"
  },
  "language_info": {
   "codemirror_mode": {
    "name": "ipython",
    "version": 3
   },
   "file_extension": ".py",
   "mimetype": "text/x-python",
   "name": "python",
   "nbconvert_exporter": "python",
   "pygments_lexer": "ipython3",
   "version": "3.8.10"
  }
 },
 "nbformat": 4,
 "nbformat_minor": 2
}