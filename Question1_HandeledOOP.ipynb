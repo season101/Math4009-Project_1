{
 "cells": [
  {
   "cell_type": "markdown",
   "source": [
    "<H1>Python Random Number Generators</H1>\n",
    "<p>We will use our object Generator to create each individuals case of random numbers set.</p>"
   ],
   "metadata": {}
  },
  {
   "cell_type": "code",
   "execution_count": 32,
   "source": [
    "from Generator import *"
   ],
   "outputs": [],
   "metadata": {}
  },
  {
   "cell_type": "markdown",
   "source": [
    "<p>We created a generators list to store each 100 cases of 10,000 random numbers between -1000 and 1000.<p>"
   ],
   "metadata": {}
  },
  {
   "cell_type": "code",
   "execution_count": 33,
   "source": [
    "generators = []"
   ],
   "outputs": [],
   "metadata": {}
  },
  {
   "cell_type": "code",
   "execution_count": 34,
   "source": [
    "for i in range(0,100):\n",
    "    generators.append(Generator(-1000,1000))"
   ],
   "outputs": [],
   "metadata": {}
  },
  {
   "cell_type": "markdown",
   "source": [
    "<hr size=\"10px\">"
   ],
   "metadata": {}
  },
  {
   "cell_type": "markdown",
   "source": [
    "<H1>Case Study</H1>"
   ],
   "metadata": {}
  },
  {
   "cell_type": "markdown",
   "source": [
    "<p>Question: Does the distribution of random numbers really looks like random?<p>\n",
    "<p> --> We have 100 cases of randomly generated 1000 sets of numbers.</p>\n",
    "<br>"
   ],
   "metadata": {}
  },
  {
   "cell_type": "markdown",
   "source": [
    "<p> First we add all 100 cases in one single map/dictionary</p>"
   ],
   "metadata": {}
  },
  {
   "cell_type": "code",
   "execution_count": 35,
   "source": [
    "data = {}\n",
    "arr = []\n",
    "for i in range (0,100):\n",
    "    for x in generators:\n",
    "        nums = x.ranNums.keys()\n",
    "        for n in nums:\n",
    "            if n in data:\n",
    "                data[n] = data.get(n) + 1\n",
    "                arr.append(n)\n",
    "            else:\n",
    "                data[n] = 1\n",
    "                arr.append(n)\n",
    "#print(data.keys())\n"
   ],
   "outputs": [],
   "metadata": {}
  },
  {
   "cell_type": "code",
   "execution_count": 46,
   "source": [
    "from matplotlib import pyplot as plt\n",
    "import numpy as np\n",
    "fig,ax = plt.subplots(1,1)\n",
    "a = list(data.keys())\n",
    "ax.hist(a, bins = [-1000,-500,0,500,1000])\n",
    "ax.set_title(\"histogram of result\")\n",
    "ax.set_xticks([-1000,-500,0,500,1000])\n",
    "ax.set_xlabel('RandomNumbers')\n",
    "ax.set_ylabel('Count')\n",
    "plt.show()"
   ],
   "outputs": [
    {
     "output_type": "display_data",
     "data": {
      "image/png": "[encoded data removed]",
      "text/plain": [
       "<Figure size 432x288 with 1 Axes>"
      ]
     },
     "metadata": {
      "needs_background": "light"
     }
    }
   ],
   "metadata": {}
  },
  {
   "cell_type": "code",
   "execution_count": null,
   "source": [],
   "outputs": [],
   "metadata": {}
  }
 ],
 "metadata": {
  "interpreter": {
   "hash": "8a0a6623576ab210179980aa84427c03337aecd09d2d94a9f6f2ab0ad8455a9a"
  },
  "kernelspec": {
   "name": "python3",
   "display_name": "Python 3.8.10 64-bit ('MATH4009': venv)"
  },
  "language_info": {
   "codemirror_mode": {
    "name": "ipython",
    "version": 3
   },
   "file_extension": ".py",
   "mimetype": "text/x-python",
   "name": "python",
   "nbconvert_exporter": "python",
   "pygments_lexer": "ipython3",
   "version": "3.8.10"
  }
 },
 "nbformat": 4,
 "nbformat_minor": 2
}