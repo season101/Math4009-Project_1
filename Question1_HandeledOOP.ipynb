{
 "cells": [
  {
   "cell_type": "markdown",
   "source": [
    "<H1>Python Random Number Generators</H1>\n",
    "<p>We will use our object Generator to create each individuals case of random numbers set.</p>"
   ],
   "metadata": {}
  },
  {
   "cell_type": "code",
   "execution_count": null,
   "source": [
    "from Generator import *;"
   ],
   "outputs": [],
   "metadata": {}
  },
  {
   "cell_type": "markdown",
   "source": [
    "<p>We created a generators list to store each 100 cases of 10,000 random numbers between -1000 and 1000.<p>"
   ],
   "metadata": {}
  },
  {
   "cell_type": "code",
   "execution_count": null,
   "source": [
    "import matplotlib.pyplot as plt\r\n",
    "\r\n",
    "generators = []"
   ],
   "outputs": [],
   "metadata": {}
  },
  {
   "cell_type": "code",
   "execution_count": null,
   "source": [
    "for i in range(0,100):\r\n",
    "    generators.append(Generator(-1000,1000,10000))\r\n",
    "    print(\"Output of Counts: \")\r\n",
    "    print(generators[i].ranNums)\r\n",
    "    \r\n",
    "x = list(generators[0].ranNums.keys())\r\n",
    "y = list(generators[0].ranNums.values())\r\n",
    "\r\n",
    "plt.scatter(x, y)\r\n",
    "plt.plot(x,y,'red')\r\n",
    "plt.show()\r\n"
   ],
   "outputs": [],
   "metadata": {}
  },
  {
   "cell_type": "markdown",
   "source": [
    "<hr size=\"10px\">"
   ],
   "metadata": {}
  },
  {
   "cell_type": "markdown",
   "source": [
    "<H1>Case Study</H1>"
   ],
   "metadata": {}
  },
  {
   "cell_type": "markdown",
   "source": [
    "<p>Question: Does the distribution of random numbers really looks like random?<p>\n",
    "<p> --> We have 100 cases of randomly generated 1000 sets of numbers.</p>\n",
    "<br>"
   ],
   "metadata": {}
  },
  {
   "cell_type": "markdown",
   "source": [
    "<p> First we add all 100 cases in one single map/dictionary</p>"
   ],
   "metadata": {}
  },
  {
   "cell_type": "code",
   "execution_count": null,
   "source": [
    "data = {}\r\n",
    "for i in range (0,100):\r\n",
    "    for x in generators:\r\n",
    "        nums = x.ranNums.keys()\r\n",
    "        for n in nums:\r\n",
    "            if n in data:\r\n",
    "                data[n] = data.get(n) + 1\r\n",
    "            else:\r\n",
    "                data[n] = 1\r\n",
    "print(data)"
   ],
   "outputs": [],
   "metadata": {}
  },
  {
   "cell_type": "code",
   "execution_count": null,
   "source": [
    "import matplotlib.pyplot as plt\r\n",
    "\r\n",
    "x = list(data.keys())\r\n",
    "y = list(data.values())\r\n",
    "\r\n",
    "plt.scatter(x, y)\r\n",
    "plt.plot(x,y,'red')\r\n",
    "plt.show()\r\n"
   ],
   "outputs": [],
   "metadata": {}
  },
  {
   "cell_type": "code",
   "execution_count": null,
   "source": [
    "GrandG = Generator(-1000,1000,1000000)\r\n",
    "print(GrandG.ranNums)"
   ],
   "outputs": [],
   "metadata": {}
  },
  {
   "cell_type": "code",
   "execution_count": null,
   "source": [
    "import matplotlib.pyplot as plt\r\n",
    "\r\n",
    "x = list(GrandG.ranNums.keys())\r\n",
    "y = list(GrandG.ranNums.values())\r\n",
    "\r\n",
    "plt.scatter(x, y)\r\n",
    "plt.plot(x,y,'red')\r\n",
    "plt.show()"
   ],
   "outputs": [],
   "metadata": {}
  }
 ],
 "metadata": {
  "interpreter": {
   "hash": "978d60d239eb2b5b4fd04d80b6db8bf066ba32f5f560efd0f49acb342b28f998"
  },
  "kernelspec": {
   "name": "python3",
   "display_name": "Python 3.9.0 64-bit"
  },
  "language_info": {
   "codemirror_mode": {
    "name": "ipython",
    "version": 3
   },
   "file_extension": ".py",
   "mimetype": "text/x-python",
   "name": "python",
   "nbconvert_exporter": "python",
   "pygments_lexer": "ipython3",
   "version": "3.9.0"
  }
 },
 "nbformat": 4,
 "nbformat_minor": 2
}