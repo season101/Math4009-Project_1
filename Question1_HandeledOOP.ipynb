{
 "cells": [
  {
   "cell_type": "markdown",
   "source": [
    "<H1>Python Random Number Generators</H1>\n",
    "<p>We will use our object Generator to create each individuals case of random numbers set.</p>"
   ],
   "metadata": {}
  },
  {
   "cell_type": "code",
   "execution_count": 1,
   "source": [
    "from Generator import *"
   ],
   "outputs": [],
   "metadata": {}
  },
  {
   "cell_type": "markdown",
   "source": [
    "<p>We created a generators list to store each 100 cases of 10,000 random numbers between -1000 and 1000.<p>"
   ],
   "metadata": {}
  },
  {
   "cell_type": "code",
   "execution_count": 2,
   "source": [
    "generators = []"
   ],
   "outputs": [],
   "metadata": {}
  },
  {
   "cell_type": "code",
   "execution_count": 3,
   "source": [
    "for i in range(0,100):\n",
    "    generators.append(Generator(-1000,1000))"
   ],
   "outputs": [],
   "metadata": {}
  },
  {
   "cell_type": "markdown",
   "source": [
    "<hr size=\"10px\">"
   ],
   "metadata": {}
  },
  {
   "cell_type": "markdown",
   "source": [
    "<H1>Case Study</H1>"
   ],
   "metadata": {}
  },
  {
   "cell_type": "markdown",
   "source": [
    "<p>Question: Does the distribution of random numbers really looks like random?<p>\n",
    "<p> --> We have 100 cases of randomly generated 1000 sets of numbers.</p>"
   ],
   "metadata": {}
  },
  {
   "cell_type": "code",
   "execution_count": 6,
   "source": [
    "data = {}"
   ],
   "outputs": [],
   "metadata": {}
  },
  {
   "cell_type": "code",
   "execution_count": 5,
   "source": [
    "for i in range (0,100):\n",
    "    nums = generators[i].get_nums()\n",
    "    counts = generators[i].get_counts()"
   ],
   "outputs": [],
   "metadata": {}
  },
  {
   "cell_type": "code",
   "execution_count": null,
   "source": [],
   "outputs": [],
   "metadata": {}
  }
 ],
 "metadata": {
  "orig_nbformat": 4,
  "language_info": {
   "name": "python",
   "version": "3.8.10",
   "mimetype": "text/x-python",
   "codemirror_mode": {
    "name": "ipython",
    "version": 3
   },
   "pygments_lexer": "ipython3",
   "nbconvert_exporter": "python",
   "file_extension": ".py"
  },
  "kernelspec": {
   "name": "python3",
   "display_name": "Python 3.8.10 64-bit ('MATH4009': venv)"
  },
  "interpreter": {
   "hash": "8a0a6623576ab210179980aa84427c03337aecd09d2d94a9f6f2ab0ad8455a9a"
  }
 },
 "nbformat": 4,
 "nbformat_minor": 2
}