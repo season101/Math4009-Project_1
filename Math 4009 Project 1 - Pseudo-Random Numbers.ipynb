{
 "cells": [
  {
   "cell_type": "markdown",
   "id": "1ddfdee4",
   "metadata": {},
   "source": [
    "<h1>Pseudo-Random Numbers</h1>"
   ]
  },
  {
   "cell_type": "markdown",
   "id": "4f13b9e5",
   "metadata": {},
   "source": [
    "<h4>Question1</h4>"
   ]
  },
  {
   "cell_type": "markdown",
   "id": "799a3bc8",
   "metadata": {},
   "source": [
    "<i>This is to generate a random number between -1000 to 1000</i>"
   ]
  },
  {
   "cell_type": "code",
   "execution_count": 3,
   "id": "1d21d0ab",
   "metadata": {},
   "outputs": [],
   "source": [
    "import random as rand"
   ]
  },
  {
   "cell_type": "code",
   "execution_count": 12,
   "id": "bec0b42c",
   "metadata": {},
   "outputs": [],
   "source": [
    "ranNums = {}"
   ]
  },
  {
   "cell_type": "code",
   "execution_count": 15,
   "id": "1c43b98d",
   "metadata": {},
   "outputs": [
    {
     "ename": "SyntaxError",
     "evalue": "invalid syntax (491515231.py, line 5)",
     "output_type": "error",
     "traceback": [
      "\u001b[0;36m  File \u001b[0;32m\"/tmp/ipykernel_19500/491515231.py\"\u001b[0;36m, line \u001b[0;32m5\u001b[0m\n\u001b[0;31m    a.add(a:0)\u001b[0m\n\u001b[0m           ^\u001b[0m\n\u001b[0;31mSyntaxError\u001b[0m\u001b[0;31m:\u001b[0m invalid syntax\n"
     ]
    }
   ],
   "source": [
    "for i in range(0,1000):\n",
    "    a = rand.randrange(-1000,1000,1)\n",
    "    \n",
    "    if a not in ranNums:\n",
    "        a.add(a:0)\n",
    "    print(((str)(i+1))+\" :  \"+(str)(a))"
   ]
  },
  {
   "cell_type": "code",
   "execution_count": null,
   "id": "9b1d97d4",
   "metadata": {},
   "outputs": [],
   "source": []
  },
  {
   "cell_type": "code",
   "execution_count": null,
   "id": "d2cf7aff",
   "metadata": {},
   "outputs": [],
   "source": []
  },
  {
   "cell_type": "code",
   "execution_count": null,
   "id": "0f1aa2f7",
   "metadata": {},
   "outputs": [],
   "source": []
  }
 ],
 "metadata": {
  "interpreter": {
   "hash": "31f2aee4e71d21fbe5cf8b01ff0e069b9275f58929596ceb00d14d90e3e16cd6"
  },
  "kernelspec": {
   "display_name": "Python 3 (ipykernel)",
   "language": "python",
   "name": "python3"
  },
  "language_info": {
   "codemirror_mode": {
    "name": "ipython",
    "version": 3
   },
   "file_extension": ".py",
   "mimetype": "text/x-python",
   "name": "python",
   "nbconvert_exporter": "python",
   "pygments_lexer": "ipython3",
   "version": "3.8.10"
  }
 },
 "nbformat": 4,
 "nbformat_minor": 5
}
