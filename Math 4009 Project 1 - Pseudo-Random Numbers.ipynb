{
 "cells": [
  {
   "cell_type": "markdown",
   "id": "54475af9",
   "metadata": {},
   "source": [
    "<h1>Pseudo-Random Numbers</h1>"
   ]
  },
  {
   "cell_type": "markdown",
   "id": "e4ab631d",
   "metadata": {},
   "source": [
    "<h4>Question1</h4>"
   ]
  },
  {
   "cell_type": "markdown",
   "id": "8943a670",
   "metadata": {},
   "source": [
    "<i>This is to generate a random number between -1000 to 1000</i>"
   ]
  },
  {
   "cell_type": "code",
   "execution_count": 1,
   "id": "c0718204",
   "metadata": {},
   "outputs": [],
   "source": [
    "import random as rand"
   ]
  },
  {
   "cell_type": "code",
   "execution_count": 11,
   "id": "5dffcea9",
   "metadata": {},
   "outputs": [
    {
     "name": "stdout",
     "output_type": "stream",
     "text": [
      "-354\n"
     ]
    }
   ],
   "source": [
    "a = rand.randrange(-1000,1000,1)\n",
    "print(a)"
   ]
  },
  {
   "cell_type": "code",
   "execution_count": null,
   "id": "4be96e0f",
   "metadata": {},
   "outputs": [],
   "source": []
  },
  {
   "cell_type": "code",
   "execution_count": null,
   "id": "216f2969",
   "metadata": {},
   "outputs": [],
   "source": []
  }
 ],
 "metadata": {
  "kernelspec": {
   "display_name": "Python 3 (ipykernel)",
   "language": "python",
   "name": "python3"
  },
  "language_info": {
   "codemirror_mode": {
    "name": "ipython",
    "version": 3
   },
   "file_extension": ".py",
   "mimetype": "text/x-python",
   "name": "python",
   "nbconvert_exporter": "python",
   "pygments_lexer": "ipython3",
   "version": "3.8.10"
  }
 },
 "nbformat": 4,
 "nbformat_minor": 5
}
