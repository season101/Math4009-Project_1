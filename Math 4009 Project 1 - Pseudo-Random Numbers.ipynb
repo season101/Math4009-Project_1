{
 "cells": [
  {
   "cell_type": "markdown",
   "id": "54475af9",
   "metadata": {},
   "source": [
    "<h1>Pseudo-Random Numbers</h1>"
   ]
  },
  {
   "cell_type": "markdown",
   "id": "e4ab631d",
   "metadata": {},
   "source": [
    "<h4>Question1</h4>"
   ]
  },
  {
   "cell_type": "markdown",
   "id": "8943a670",
   "metadata": {},
   "source": [
    "<i></i>"
   ]
  }
 ],
 "metadata": {
  "kernelspec": {
   "display_name": "Python 3 (ipykernel)",
   "language": "python",
   "name": "python3"
  },
  "language_info": {
   "codemirror_mode": {
    "name": "ipython",
    "version": 3
   },
   "file_extension": ".py",
   "mimetype": "text/x-python",
   "name": "python",
   "nbconvert_exporter": "python",
   "pygments_lexer": "ipython3",
   "version": "3.8.10"
  }
 },
 "nbformat": 4,
 "nbformat_minor": 5
}
