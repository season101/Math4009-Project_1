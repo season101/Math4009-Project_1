{
 "cells": [
  {
   "cell_type": "code",
   "execution_count": 24,
   "source": [
    "import random;"
   ],
   "outputs": [],
   "metadata": {}
  },
  {
   "cell_type": "markdown",
   "source": [
    "<h3>We will loop and see if random number wins or the linear search. <h3>"
   ],
   "metadata": {}
  },
  {
   "cell_type": "code",
   "execution_count": 31,
   "source": [
    "data = {}\n",
    "for loop in range(0,1000,1):\n",
    "    aRandomNumber = random.randrange(0,1000,1) #the number we have to guess\n",
    "    notFound = True\n",
    "    step = 1\n",
    "    while(notFound):\n",
    "        temp = random.randrange(0,1000,1)      \n",
    "        if(aRandomNumber==temp):\n",
    "            notFound = False\n",
    "            data[loop] = [{aRandomNumber,step}]\n",
    "        step+1\n"
   ],
   "outputs": [],
   "metadata": {}
  },
  {
   "cell_type": "code",
   "execution_count": null,
   "source": [],
   "outputs": [],
   "metadata": {}
  }
 ],
 "metadata": {
  "orig_nbformat": 4,
  "language_info": {
   "name": "python",
   "version": "3.8.10",
   "mimetype": "text/x-python",
   "codemirror_mode": {
    "name": "ipython",
    "version": 3
   },
   "pygments_lexer": "ipython3",
   "nbconvert_exporter": "python",
   "file_extension": ".py"
  },
  "kernelspec": {
   "name": "python3",
   "display_name": "Python 3.8.10 64-bit"
  },
  "interpreter": {
   "hash": "31f2aee4e71d21fbe5cf8b01ff0e069b9275f58929596ceb00d14d90e3e16cd6"
  }
 },
 "nbformat": 4,
 "nbformat_minor": 2
}