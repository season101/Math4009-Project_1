{
 "cells": [
  {
   "cell_type": "code",
   "execution_count": null,
   "source": [
    "import random;\r\n",
    "import matplotlib.pyplot as plt;"
   ],
   "outputs": [],
   "metadata": {}
  },
  {
   "cell_type": "markdown",
   "source": [
    "<h3>We will loop and see if random number wins or the linear search. <h3>"
   ],
   "metadata": {}
  },
  {
   "cell_type": "code",
   "execution_count": null,
   "source": [
    "# We will use an dictionary of python list to store the result of our investigation \r\n",
    "data = {}\r\n",
    "\r\n",
    "#To repeat our experiment 1000 times\r\n",
    "for loop in range(0,1000,1):\r\n",
    "    aRandomNumber = random.randrange(1,1000,1) #the number we have to guess between 1 and 1000\r\n",
    "    notFound = True\r\n",
    "    step = 1\r\n",
    "    \r\n",
    "    #To try out our guesswork and check and confirm if we got it right\r\n",
    "    while(notFound):\r\n",
    "        tempGuess = random.randrange(0,1000,1)     \r\n",
    "        \r\n",
    "        if(aRandomNumber==tempGuess):\r\n",
    "            notFound = False\r\n",
    "            data[loop] = [aRandomNumber,step]\r\n",
    "        step=step+1\r\n"
   ],
   "outputs": [],
   "metadata": {}
  },
  {
   "cell_type": "code",
   "execution_count": null,
   "source": [
    "winsLinear = 0\r\n",
    "winsRandom = 0\r\n",
    "LinearSteps = []\r\n",
    "RandomSteps = []\r\n",
    "for each in data:\r\n",
    "    testCases = data[each]\r\n",
    "    LinearSteps.append(testCases[0]-1)\r\n",
    "    RandomSteps.append(testCases[1])\r\n",
    "    if (testCases[0]-1 < testCases[1]):\r\n",
    "        winsLinear+=1\r\n",
    "    else:\r\n",
    "        winsRandom+=1\r\n",
    "print(\"Linear Success: \"+str(winsLinear/10)+\"%\")\r\n",
    "print(\"Random Success: \"+str(winsRandom/10)+\"%\")"
   ],
   "outputs": [],
   "metadata": {}
  },
  {
   "cell_type": "code",
   "execution_count": null,
   "source": [
    "\r\n",
    "fig = plt.figure()\r\n",
    "ax = fig.add_axes([0,0,1,1])\r\n",
    "xLabel = ['Linear', 'Random']\r\n",
    "yLabel = [winsLinear,winsRandom]\r\n",
    "ax.bar(xLabel,yLabel)\r\n",
    "plt.show()"
   ],
   "outputs": [],
   "metadata": {}
  },
  {
   "cell_type": "code",
   "execution_count": null,
   "source": [
    "x = range(0,1000,1)\r\n",
    "  \r\n",
    "# plot lines\r\n",
    "fig = plt.figure()\r\n",
    "ax = fig.add_axes([0,0,5,5])\r\n",
    "\r\n",
    "plt.plot(x, LinearSteps, label = \"LinearSteps\")\r\n",
    "plt.plot(x, RandomSteps, label = \"RandomSteps\")\r\n",
    "\r\n",
    "plt.legend()\r\n",
    "plt.show()"
   ],
   "outputs": [],
   "metadata": {}
  },
  {
   "cell_type": "markdown",
   "source": [
    "<h1>!!! We assumed the already guessed number so we might wanna give Random Numbers some chance."
   ],
   "metadata": {}
  },
  {
   "cell_type": "code",
   "execution_count": null,
   "source": [
    "# We will use an dictionary of python list to store the result of our investigation \r\n",
    "data = {}\r\n",
    "\r\n",
    "#To repeat our experiment 1000 times\r\n",
    "for loop in range(0,1000,1):\r\n",
    "    aRandomNumber = random.randrange(1,1000,1) #the number we have to guess between 1 and 1000\r\n",
    "    notFound = True\r\n",
    "    step = 1\r\n",
    "    \r\n",
    "    #To try out our guesswork and check and confirm if we got it right\r\n",
    "    alreadyGuessed = []\r\n",
    "    while(notFound):\r\n",
    "        tempGuess = random.randrange(0,1000,1)     \r\n",
    "        if(tempGuess in alreadyGuessed):\r\n",
    "            continue\r\n",
    "\r\n",
    "        alreadyGuessed.append(tempGuess)\r\n",
    "\r\n",
    "        if(aRandomNumber==tempGuess):\r\n",
    "            notFound = False\r\n",
    "            data[loop] = [aRandomNumber,step]\r\n",
    "        step=step+1\r\n"
   ],
   "outputs": [],
   "metadata": {}
  },
  {
   "cell_type": "code",
   "execution_count": null,
   "source": [
    "winsLinear = 0\r\n",
    "winsRandom = 0\r\n",
    "LinearSteps = []\r\n",
    "RandomSteps = []\r\n",
    "for each in data:\r\n",
    "    testCases = data[each]\r\n",
    "    LinearSteps.append(testCases[0]-1)\r\n",
    "    RandomSteps.append(testCases[1])\r\n",
    "    if (testCases[0]-1 < testCases[1]):\r\n",
    "        winsLinear+=1\r\n",
    "    else:\r\n",
    "        winsRandom+=1\r\n",
    "print(\"Linear Success: \"+str(winsLinear/10)+\"%\")\r\n",
    "print(\"Random Success: \"+str(winsRandom/10)+\"%\")"
   ],
   "outputs": [],
   "metadata": {}
  },
  {
   "cell_type": "code",
   "execution_count": null,
   "source": [
    "\r\n",
    "# plot lines\r\n",
    "fig = plt.figure()\r\n",
    "ax = fig.add_axes([0,0,5,5])\r\n",
    "\r\n",
    "plt.plot(x, LinearSteps, label = \"LinearSteps\")\r\n",
    "plt.plot(x, RandomSteps, label = \"RandomSteps\")\r\n",
    "\r\n",
    "plt.legend()\r\n",
    "plt.show()"
   ],
   "outputs": [],
   "metadata": {}
  },
  {
   "cell_type": "code",
   "execution_count": null,
   "source": [],
   "outputs": [],
   "metadata": {}
  }
 ],
 "metadata": {
  "interpreter": {
   "hash": "978d60d239eb2b5b4fd04d80b6db8bf066ba32f5f560efd0f49acb342b28f998"
  },
  "kernelspec": {
   "name": "python3",
   "display_name": "Python 3.9.0 64-bit"
  },
  "language_info": {
   "codemirror_mode": {
    "name": "ipython",
    "version": 3
   },
   "file_extension": ".py",
   "mimetype": "text/x-python",
   "name": "python",
   "nbconvert_exporter": "python",
   "pygments_lexer": "ipython3",
   "version": "3.9.0"
  }
 },
 "nbformat": 4,
 "nbformat_minor": 2
}